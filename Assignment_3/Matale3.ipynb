{
 "cells": [
  {
   "cell_type": "markdown",
   "metadata": {},
   "source": [
    "# Advanced Data Minning in Python class\n",
    "## Ecorcise 2: Data Minning using Api"
   ]
  },
  {
   "cell_type": "markdown",
   "metadata": {
    "tags": []
   },
   "source": [
    "### Bnaya Avivi 318403854"
   ]
  },
  {
   "cell_type": "markdown",
   "metadata": {},
   "source": [
    "#### import the libraries"
   ]
  },
  {
   "cell_type": "code",
   "execution_count": 1,
   "metadata": {},
   "outputs": [],
   "source": [
    "import requests\n",
    "import pandas as pd #pandas library\n",
    "from pandas_datareader import data #data readers (google, html, etc.)\n",
    "#The following line ensures that graphs are rendered in the notebook (and not in another window)\n",
    "%matplotlib inline \n",
    "import numpy as np\n",
    "import matplotlib.pyplot as plt #Plotting library\n",
    "import datetime as dt #datetime for timeseries support\n",
    "import re"
   ]
  },
  {
   "cell_type": "markdown",
   "metadata": {
    "tags": []
   },
   "source": [
    "#### read the text file and append the cities to list"
   ]
  },
  {
   "cell_type": "code",
   "execution_count": 2,
   "metadata": {},
   "outputs": [],
   "source": [
    "target=[]\n",
    "file = open('dests.txt', 'r')\n",
    "\n",
    "for line in file:\n",
    "    line=line.rstrip()\n",
    "    target.append(line)\n",
    "my_location='Tel Aviv'   "
   ]
  },
  {
   "cell_type": "markdown",
   "metadata": {},
   "source": [
    "#### Function that import the data from google and append the values that i need to lists"
   ]
  },
  {
   "cell_type": "code",
   "execution_count": 3,
   "metadata": {},
   "outputs": [],
   "source": [
    "def Distance(key,loc):\n",
    "    api_url = \"https://maps.googleapis.com/maps/api/distancematrix/json\"\n",
    "    params = {\n",
    "    \"origins\": 'Tel Aviv' ,\n",
    "    \"destinations\": loc,\n",
    "    \"key\": key\n",
    "    }\n",
    "    response = requests.get(api_url, params=params)\n",
    "    if response.status_code == 200:\n",
    "    # Get the distance and duration information from the response\n",
    "        data = response.json()\n",
    "        distance = data[\"rows\"][0][\"elements\"][0][\"distance\"][\"text\"]\n",
    "        duration_a = data[\"rows\"][0][\"elements\"][0][\"duration\"][\"value\"]\n",
    "        # // מוריד את המספרים אחרי הנקודה\n",
    "        hours = duration_a // 3600\n",
    "        minutes = (duration_a % 3600) // 60\n",
    "        duration=f'{hours} hours {minutes} minutes'\n",
    "        return distance, duration\n",
    "    else:\n",
    "        print(\"Error:\", response.status_code)  \n",
    "def get_lat_lng(api_key,loc):\n",
    "    url=\"https://maps.googleapis.com/maps/api/geocode/json?address=%s&key=%s\" % (loc,api_key)\n",
    "    response = requests.get(url).json()\n",
    "    return (response['results'][0]['geometry']['location']['lng'],response['results'][0]['geometry']['location']['lat'])        "
   ]
  },
  {
   "cell_type": "code",
   "execution_count": 4,
   "metadata": {},
   "outputs": [],
   "source": [
    "api_url = \"https://maps.googleapis.com/maps/api/distancematrix/json\"\n",
    "params = {\n",
    "    \"origins\": 'Tel Aviv' ,\n",
    "    \"destinations\": 'madrid',\n",
    "    \"key\": api_key\n",
    "    }\n",
    "response = requests.get(api_url, params=params)"
   ]
  },
  {
   "cell_type": "code",
   "execution_count": 5,
   "metadata": {},
   "outputs": [],
   "source": [
    "distace=[]\n",
    "duration=[]\n",
    "Longitude=[]\n",
    "latitude=[]\n",
    "for location in target:\n",
    "    distace.append(Distance(api_key,location)[0])\n",
    "    duration.append(Distance(api_key,location)[1])\n",
    "    Longitude.append(get_lat_lng(api_key,location)[0])\n",
    "    latitude.append(get_lat_lng(api_key,location)[1])"
   ]
  },
  {
   "cell_type": "code",
   "execution_count": 6,
   "metadata": {},
   "outputs": [],
   "source": [
    "data = {\n",
    "    \"target\":target,\n",
    "    \"Distace_KM\": distace,\n",
    "    \"Duration (hour+minutes)\": duration,\n",
    "    \"Longitude\": Longitude,\n",
    "    \"latitude\": latitude\n",
    "}\n",
    "\n",
    "# Create the dataframe from the dictionary\n",
    "df = pd.DataFrame(data)"
   ]
  },
  {
   "cell_type": "code",
   "execution_count": 7,
   "metadata": {},
   "outputs": [
    {
     "data": {
      "text/html": [
       "<div>\n",
       "<style scoped>\n",
       "    .dataframe tbody tr th:only-of-type {\n",
       "        vertical-align: middle;\n",
       "    }\n",
       "\n",
       "    .dataframe tbody tr th {\n",
       "        vertical-align: top;\n",
       "    }\n",
       "\n",
       "    .dataframe thead th {\n",
       "        text-align: right;\n",
       "    }\n",
       "</style>\n",
       "<table border=\"1\" class=\"dataframe\">\n",
       "  <thead>\n",
       "    <tr style=\"text-align: right;\">\n",
       "      <th></th>\n",
       "      <th>Distace_KM</th>\n",
       "      <th>Duration (hour+minutes)</th>\n",
       "      <th>Longitude</th>\n",
       "      <th>latitude</th>\n",
       "    </tr>\n",
       "    <tr>\n",
       "      <th>target</th>\n",
       "      <th></th>\n",
       "      <th></th>\n",
       "      <th></th>\n",
       "      <th></th>\n",
       "    </tr>\n",
       "  </thead>\n",
       "  <tbody>\n",
       "    <tr>\n",
       "      <th>Istanbul</th>\n",
       "      <td>1,815 km</td>\n",
       "      <td>21 hours 2 minutes</td>\n",
       "      <td>28.978359</td>\n",
       "      <td>41.008238</td>\n",
       "    </tr>\n",
       "    <tr>\n",
       "      <th>Amsterdam</th>\n",
       "      <td>4,533 km</td>\n",
       "      <td>48 hours 3 minutes</td>\n",
       "      <td>4.904139</td>\n",
       "      <td>52.367573</td>\n",
       "    </tr>\n",
       "    <tr>\n",
       "      <th>Valletta</th>\n",
       "      <td>3,793 km</td>\n",
       "      <td>50 hours 51 minutes</td>\n",
       "      <td>14.514100</td>\n",
       "      <td>35.899237</td>\n",
       "    </tr>\n",
       "    <tr>\n",
       "      <th>Basel</th>\n",
       "      <td>4,094 km</td>\n",
       "      <td>44 hours 7 minutes</td>\n",
       "      <td>7.588576</td>\n",
       "      <td>47.559599</td>\n",
       "    </tr>\n",
       "    <tr>\n",
       "      <th>Doha</th>\n",
       "      <td>2,164 km</td>\n",
       "      <td>22 hours 38 minutes</td>\n",
       "      <td>51.531040</td>\n",
       "      <td>25.285447</td>\n",
       "    </tr>\n",
       "  </tbody>\n",
       "</table>\n",
       "</div>"
      ],
      "text/plain": [
       "          Distace_KM Duration (hour+minutes)  Longitude   latitude\n",
       "target                                                            \n",
       "Istanbul    1,815 km      21 hours 2 minutes  28.978359  41.008238\n",
       "Amsterdam   4,533 km      48 hours 3 minutes   4.904139  52.367573\n",
       "Valletta    3,793 km     50 hours 51 minutes  14.514100  35.899237\n",
       "Basel       4,094 km      44 hours 7 minutes   7.588576  47.559599\n",
       "Doha        2,164 km     22 hours 38 minutes  51.531040  25.285447"
      ]
     },
     "execution_count": 7,
     "metadata": {},
     "output_type": "execute_result"
    }
   ],
   "source": [
    "df.set_index('target', inplace=True)\n",
    "df"
   ]
  },
  {
   "cell_type": "code",
   "execution_count": 8,
   "metadata": {},
   "outputs": [
    {
     "data": {
      "text/html": [
       "<div>\n",
       "<style scoped>\n",
       "    .dataframe tbody tr th:only-of-type {\n",
       "        vertical-align: middle;\n",
       "    }\n",
       "\n",
       "    .dataframe tbody tr th {\n",
       "        vertical-align: top;\n",
       "    }\n",
       "\n",
       "    .dataframe thead th {\n",
       "        text-align: right;\n",
       "    }\n",
       "</style>\n",
       "<table border=\"1\" class=\"dataframe\">\n",
       "  <thead>\n",
       "    <tr style=\"text-align: right;\">\n",
       "      <th></th>\n",
       "      <th>Distace_KM</th>\n",
       "      <th>Duration (hour+minutes)</th>\n",
       "      <th>Longitude</th>\n",
       "      <th>latitude</th>\n",
       "    </tr>\n",
       "    <tr>\n",
       "      <th>target</th>\n",
       "      <th></th>\n",
       "      <th></th>\n",
       "      <th></th>\n",
       "      <th></th>\n",
       "    </tr>\n",
       "  </thead>\n",
       "  <tbody>\n",
       "    <tr>\n",
       "      <th>Amsterdam</th>\n",
       "      <td>4,533 km</td>\n",
       "      <td>48 hours 3 minutes</td>\n",
       "      <td>4.904139</td>\n",
       "      <td>52.367573</td>\n",
       "    </tr>\n",
       "    <tr>\n",
       "      <th>Basel</th>\n",
       "      <td>4,094 km</td>\n",
       "      <td>44 hours 7 minutes</td>\n",
       "      <td>7.588576</td>\n",
       "      <td>47.559599</td>\n",
       "    </tr>\n",
       "    <tr>\n",
       "      <th>Valletta</th>\n",
       "      <td>3,793 km</td>\n",
       "      <td>50 hours 51 minutes</td>\n",
       "      <td>14.514100</td>\n",
       "      <td>35.899237</td>\n",
       "    </tr>\n",
       "  </tbody>\n",
       "</table>\n",
       "</div>"
      ],
      "text/plain": [
       "          Distace_KM Duration (hour+minutes)  Longitude   latitude\n",
       "target                                                            \n",
       "Amsterdam   4,533 km      48 hours 3 minutes   4.904139  52.367573\n",
       "Basel       4,094 km      44 hours 7 minutes   7.588576  47.559599\n",
       "Valletta    3,793 km     50 hours 51 minutes  14.514100  35.899237"
      ]
     },
     "execution_count": 8,
     "metadata": {},
     "output_type": "execute_result"
    }
   ],
   "source": [
    "df.sort_values(\"Distace_KM\",ascending= False).head(3)"
   ]
  },
  {
   "cell_type": "code",
   "execution_count": null,
   "metadata": {},
   "outputs": [],
   "source": []
  }
 ],
 "metadata": {
  "kernelspec": {
   "display_name": "Python 3 (ipykernel)",
   "language": "python",
   "name": "python3"
  },
  "language_info": {
   "codemirror_mode": {
    "name": "ipython",
    "version": 3
   },
   "file_extension": ".py",
   "mimetype": "text/x-python",
   "name": "python",
   "nbconvert_exporter": "python",
   "pygments_lexer": "ipython3",
   "version": "3.10.9"
  }
 },
 "nbformat": 4,
 "nbformat_minor": 4
}
