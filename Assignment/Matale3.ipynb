{
 "cells": [
  {
   "cell_type": "markdown",
   "metadata": {},
   "source": [
    "## Bnaya Avivi 318403854"
   ]
  },
  {
   "cell_type": "code",
   "execution_count": 1,
   "metadata": {},
   "outputs": [
    {
     "name": "stderr",
     "output_type": "stream",
     "text": [
      "C:\\Users\\USER\\anaconda3\\lib\\site-packages\\pandas\\core\\computation\\expressions.py:20: UserWarning: Pandas requires version '2.7.3' or newer of 'numexpr' (version '2.7.1' currently installed).\n",
      "  from pandas.core.computation.check import NUMEXPR_INSTALLED\n"
     ]
    }
   ],
   "source": [
    "import requests\n",
    "import pandas as pd #pandas library\n",
    "from pandas_datareader import data #data readers (google, html, etc.)\n",
    "#The following line ensures that graphs are rendered in the notebook (and not in another window)\n",
    "%matplotlib inline \n",
    "import numpy as np\n",
    "import matplotlib.pyplot as plt #Plotting library\n",
    "import datetime as dt #datetime for timeseries support\n",
    "import re"
   ]
  },
  {
   "cell_type": "code",
   "execution_count": 2,
   "metadata": {},
   "outputs": [],
   "source": [
    "target=[]\n",
    "file = open('dests.txt', 'r')\n",
    "\n",
    "for line in file:\n",
    "    line=line.rstrip()\n",
    "    target.append(line)\n",
    "my_location='Tel Aviv'   "
   ]
  },
  {
   "cell_type": "code",
   "execution_count": 3,
   "metadata": {},
   "outputs": [],
   "source": [
    "def Distance(key,loc):\n",
    "    api_url = \"https://maps.googleapis.com/maps/api/distancematrix/json\"\n",
    "    params = {\n",
    "    \"origins\": 'Tel Aviv' ,\n",
    "    \"destinations\": loc,\n",
    "    \"key\": key\n",
    "    }\n",
    "    response = requests.get(api_url, params=params)\n",
    "    if response.status_code == 200:\n",
    "    # Get the distance and duration information from the response\n",
    "        data = response.json()\n",
    "        distance = data[\"rows\"][0][\"elements\"][0][\"distance\"][\"text\"]\n",
    "        duration = data[\"rows\"][0][\"elements\"][0][\"duration\"][\"text\"]\n",
    "        return distance, duration\n",
    "    else:\n",
    "        print(\"Error:\", response.status_code)  \n",
    "def get_lat_lng(api_key,loc):\n",
    "    url=\"https://maps.googleapis.com/maps/api/geocode/json?address=%s&key=%s\" % (loc,api_key)\n",
    "    response = requests.get(url).json()\n",
    "    return (response['results'][0]['geometry']['location']['lng'],response['results'][0]['geometry']['location']['lat'])        "
   ]
  },
  {
   "cell_type": "code",
   "execution_count": 4,
   "metadata": {},
   "outputs": [],
   "source": [
    "distace=[]\n",
    "duration=[]\n",
    "Longitude=[]\n",
    "latitude=[]\n",
    "for location in target:\n",
    "    distace.append(Distance(api_key,location)[0])\n",
    "    duration.append(Distance(api_key,location)[1])\n",
    "    Longitude.append(get_lat_lng(api_key,location)[0])\n",
    "    latitude.append(get_lat_lng(api_key,location)[1])"
   ]
  },
  {
   "cell_type": "code",
   "execution_count": 5,
   "metadata": {},
   "outputs": [],
   "source": [
    "data = {\n",
    "    \"target\":target,\n",
    "    \"Distace_KM\": distace,\n",
    "    \"Duration (hour+minutes)\": duration,\n",
    "    \"Longitude\": Longitude,\n",
    "    \"latitude\": latitude\n",
    "}\n",
    "\n",
    "# Create the dataframe from the dictionary\n",
    "df = pd.DataFrame(data)"
   ]
  },
  {
   "cell_type": "code",
   "execution_count": 6,
   "metadata": {},
   "outputs": [
    {
     "data": {
      "text/html": [
       "<div>\n",
       "<style scoped>\n",
       "    .dataframe tbody tr th:only-of-type {\n",
       "        vertical-align: middle;\n",
       "    }\n",
       "\n",
       "    .dataframe tbody tr th {\n",
       "        vertical-align: top;\n",
       "    }\n",
       "\n",
       "    .dataframe thead th {\n",
       "        text-align: right;\n",
       "    }\n",
       "</style>\n",
       "<table border=\"1\" class=\"dataframe\">\n",
       "  <thead>\n",
       "    <tr style=\"text-align: right;\">\n",
       "      <th></th>\n",
       "      <th>target</th>\n",
       "      <th>Distace_KM</th>\n",
       "      <th>Duration (hour+minutes)</th>\n",
       "      <th>Longitude</th>\n",
       "      <th>latitude</th>\n",
       "    </tr>\n",
       "  </thead>\n",
       "  <tbody>\n",
       "    <tr>\n",
       "      <th>0</th>\n",
       "      <td>Istanbul</td>\n",
       "      <td>1,815 km</td>\n",
       "      <td>21 hours 3 mins</td>\n",
       "      <td>28.978359</td>\n",
       "      <td>41.008238</td>\n",
       "    </tr>\n",
       "    <tr>\n",
       "      <th>1</th>\n",
       "      <td>Amsterdam</td>\n",
       "      <td>4,527 km</td>\n",
       "      <td>2 days 0 hours</td>\n",
       "      <td>4.904139</td>\n",
       "      <td>52.367573</td>\n",
       "    </tr>\n",
       "    <tr>\n",
       "      <th>2</th>\n",
       "      <td>Valletta</td>\n",
       "      <td>3,793 km</td>\n",
       "      <td>2 days 3 hours</td>\n",
       "      <td>14.514100</td>\n",
       "      <td>35.899237</td>\n",
       "    </tr>\n",
       "    <tr>\n",
       "      <th>3</th>\n",
       "      <td>Basel</td>\n",
       "      <td>4,093 km</td>\n",
       "      <td>1 day 20 hours</td>\n",
       "      <td>7.588576</td>\n",
       "      <td>47.559599</td>\n",
       "    </tr>\n",
       "    <tr>\n",
       "      <th>4</th>\n",
       "      <td>Doha</td>\n",
       "      <td>2,164 km</td>\n",
       "      <td>22 hours 39 mins</td>\n",
       "      <td>51.531040</td>\n",
       "      <td>25.285447</td>\n",
       "    </tr>\n",
       "  </tbody>\n",
       "</table>\n",
       "</div>"
      ],
      "text/plain": [
       "      target Distace_KM Duration (hour+minutes)  Longitude   latitude\n",
       "0   Istanbul   1,815 km         21 hours 3 mins  28.978359  41.008238\n",
       "1  Amsterdam   4,527 km          2 days 0 hours   4.904139  52.367573\n",
       "2   Valletta   3,793 km          2 days 3 hours  14.514100  35.899237\n",
       "3      Basel   4,093 km          1 day 20 hours   7.588576  47.559599\n",
       "4       Doha   2,164 km        22 hours 39 mins  51.531040  25.285447"
      ]
     },
     "execution_count": 6,
     "metadata": {},
     "output_type": "execute_result"
    }
   ],
   "source": [
    "df"
   ]
  },
  {
   "cell_type": "code",
   "execution_count": 7,
   "metadata": {},
   "outputs": [
    {
     "data": {
      "text/plain": [
       "1    Amsterdam\n",
       "3        Basel\n",
       "2     Valletta\n",
       "Name: target, dtype: object"
      ]
     },
     "execution_count": 7,
     "metadata": {},
     "output_type": "execute_result"
    }
   ],
   "source": [
    "df.sort_values(\"Distace_KM\",ascending= False).head(3)['target']"
   ]
  },
  {
   "cell_type": "code",
   "execution_count": 8,
   "metadata": {},
   "outputs": [
    {
     "data": {
      "text/html": [
       "<div>\n",
       "<style scoped>\n",
       "    .dataframe tbody tr th:only-of-type {\n",
       "        vertical-align: middle;\n",
       "    }\n",
       "\n",
       "    .dataframe tbody tr th {\n",
       "        vertical-align: top;\n",
       "    }\n",
       "\n",
       "    .dataframe thead th {\n",
       "        text-align: right;\n",
       "    }\n",
       "</style>\n",
       "<table border=\"1\" class=\"dataframe\">\n",
       "  <thead>\n",
       "    <tr style=\"text-align: right;\">\n",
       "      <th></th>\n",
       "      <th>target</th>\n",
       "      <th>Distace_KM</th>\n",
       "      <th>Duration (hour+minutes)</th>\n",
       "      <th>Longitude</th>\n",
       "      <th>latitude</th>\n",
       "    </tr>\n",
       "  </thead>\n",
       "  <tbody>\n",
       "    <tr>\n",
       "      <th>1</th>\n",
       "      <td>Amsterdam</td>\n",
       "      <td>4,527 km</td>\n",
       "      <td>2 days 0 hours</td>\n",
       "      <td>4.904139</td>\n",
       "      <td>52.367573</td>\n",
       "    </tr>\n",
       "    <tr>\n",
       "      <th>3</th>\n",
       "      <td>Basel</td>\n",
       "      <td>4,093 km</td>\n",
       "      <td>1 day 20 hours</td>\n",
       "      <td>7.588576</td>\n",
       "      <td>47.559599</td>\n",
       "    </tr>\n",
       "    <tr>\n",
       "      <th>2</th>\n",
       "      <td>Valletta</td>\n",
       "      <td>3,793 km</td>\n",
       "      <td>2 days 3 hours</td>\n",
       "      <td>14.514100</td>\n",
       "      <td>35.899237</td>\n",
       "    </tr>\n",
       "  </tbody>\n",
       "</table>\n",
       "</div>"
      ],
      "text/plain": [
       "      target Distace_KM Duration (hour+minutes)  Longitude   latitude\n",
       "1  Amsterdam   4,527 km          2 days 0 hours   4.904139  52.367573\n",
       "3      Basel   4,093 km          1 day 20 hours   7.588576  47.559599\n",
       "2   Valletta   3,793 km          2 days 3 hours  14.514100  35.899237"
      ]
     },
     "execution_count": 8,
     "metadata": {},
     "output_type": "execute_result"
    }
   ],
   "source": [
    "df.sort_values(\"Distace_KM\",ascending= False).head(3)"
   ]
  },
  {
   "cell_type": "code",
   "execution_count": null,
   "metadata": {},
   "outputs": [],
   "source": []
  }
 ],
 "metadata": {
  "kernelspec": {
   "display_name": "Python 3",
   "language": "python",
   "name": "python3"
  },
  "language_info": {
   "codemirror_mode": {
    "name": "ipython",
    "version": 3
   },
   "file_extension": ".py",
   "mimetype": "text/x-python",
   "name": "python",
   "nbconvert_exporter": "python",
   "pygments_lexer": "ipython3",
   "version": "3.8.5"
  }
 },
 "nbformat": 4,
 "nbformat_minor": 4
}
